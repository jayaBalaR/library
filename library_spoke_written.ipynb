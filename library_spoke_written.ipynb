{
  "nbformat": 4,
  "nbformat_minor": 0,
  "metadata": {
    "colab": {
      "name": "library_spoke_written.ipynb",
      "provenance": [],
      "collapsed_sections": [],
      "authorship_tag": "ABX9TyOro7BB5bIKjBgoyP2i/E9c",
      "include_colab_link": true
    },
    "kernelspec": {
      "name": "python3",
      "display_name": "Python 3"
    },
    "language_info": {
      "name": "python"
    }
  },
  "cells": [
    {
      "cell_type": "markdown",
      "metadata": {
        "id": "view-in-github",
        "colab_type": "text"
      },
      "source": [
        "<a href=\"https://colab.research.google.com/github/jayaBalaR/library/blob/master/library_spoke_written.ipynb\" target=\"_parent\"><img src=\"https://colab.research.google.com/assets/colab-badge.svg\" alt=\"Open In Colab\"/></a>"
      ]
    },
    {
      "cell_type": "code",
      "metadata": {
        "id": "p3JVCr7sbrma"
      },
      "source": [
        "##Create a reusable library that can convert a paragraph of spoken english to written english. For example, \"two dollars\" should be converted to $2. \n",
        "##Abbreviations spoken as \"C M\" or \"Triple A\" should be written as \"CM\" and \"AAA\" respectively"
      ],
      "execution_count": null,
      "outputs": []
    },
    {
      "cell_type": "code",
      "metadata": {
        "id": "ejf7hb9cbzjm"
      },
      "source": [
        "import numpy as np\n",
        "import pandas as pd"
      ],
      "execution_count": 31,
      "outputs": []
    },
    {
      "cell_type": "code",
      "metadata": {
        "id": "oo61I88wb3XQ"
      },
      "source": [
        "currencies_dict = {'dollars':'$', 'rupees':'₹' , 'pounds':'£'}\n",
        "abbrev_dict ={'C': 'CM', 'P': 'PM'}\n",
        "count_dict = {'single': 1 , 'double':2 , 'Triple': 3}\n",
        "amount_dict = {'one':1, 'two':2, 'three':3, 'four': 4, 'five':5, 'six':6, 'seven':7, 'eight':8, 'nine':9, 'ten': 10,\\\n",
        "               'twenty': 20, 'thirty': 30, 'forty': 40, 'fifty': 50, 'sixty': 60, 'seventy': 70, 'eighty': 80, 'ninety': 90,\\\n",
        "                'hundred': 100}\n"
      ],
      "execution_count": 32,
      "outputs": []
    },
    {
      "cell_type": "code",
      "metadata": {
        "id": "u7PswA5RlJLl"
      },
      "source": [
        "sentences = 'Veena went to the mall located at junction road called C M. It was 1 P M. She purchased articles worth 400 dollars. Most of the items she purchased was from brand Triple A.'"
      ],
      "execution_count": 33,
      "outputs": []
    },
    {
      "cell_type": "code",
      "metadata": {
        "id": "asC3Iv5pSPDS"
      },
      "source": [
        "def func_convert(sentences):\n",
        "  append_lst = []\n",
        "  for value in sentences.split('.'):\n",
        "    for record in value.split():\n",
        "      # print(record)\n",
        "      append_lst.append(record)\n",
        "\n",
        "  index_of_M = append_lst.index('M')\n",
        "\n",
        "  index_of_C = append_lst.index('C')\n",
        "\n",
        "  index_of_P = append_lst.index('P')\n",
        "\n",
        "  index_of_A = append_lst.index('A')\n",
        "\n",
        "  # element\n",
        "\n",
        "  # append_lst = [item for item in append_lst if item != 'M' or item != 'P']\n",
        "\n",
        "  # append_lst.pop(index_of_M)\n",
        "  while 'M' in append_lst: \n",
        "    append_lst.remove('M')\n",
        "\n",
        "  # while 'P' in append_lst: \n",
        "  #   append_lst.remove('P')\n",
        "\n",
        "  append_lst.pop(index_of_C)\n",
        "\n",
        "  # append_lst.remove(index_of_P)\n",
        "\n",
        "  append_lst.insert(index_of_C , abbrev_dict.get('C'))\n",
        "\n",
        "  append_lst.insert(index_of_P , abbrev_dict.get('P'))\n",
        "\n",
        "  while 'P' in append_lst: \n",
        "    append_lst.remove('P')\n",
        "\n",
        "  # print(append_lst)\n",
        "\n",
        "  # print(len(append_lst))\n",
        "  for records in append_lst:\n",
        "    if records in currencies_dict.keys():\n",
        "      index_curr = append_lst.index(records)\n",
        "      text_replace = currencies_dict.get(records)\n",
        "      append_lst.remove(records)\n",
        "      append_lst.insert(index_curr-1 ,text_replace)\n",
        "    \n",
        "    elif records in count_dict.keys():\n",
        "      index_count = append_lst.index(records)\n",
        "      print(\"index of count var=\", index_count)\n",
        "      variable = append_lst.pop(index_count+1)\n",
        "\n",
        "      text_replace = count_dict.get(records)\n",
        "      final_text_replace = text_replace * variable\n",
        "      print(final_text_replace)\n",
        "      append_lst.remove(records)\n",
        "      append_lst.insert(len(append_lst) - 1 ,final_text_replace)\n",
        "  paragraph = (' '.join(append_lst))\n",
        "  return paragraph\n",
        "# print(\"paragragh\",append_lst)"
      ],
      "execution_count": 51,
      "outputs": []
    },
    {
      "cell_type": "code",
      "metadata": {
        "colab": {
          "base_uri": "https://localhost:8080/"
        },
        "id": "yWNZcQLYdTCq",
        "outputId": "8dcc292e-474d-4f67-b863-fbf1d922acc5"
      },
      "source": [
        "print(func_convert(sentences))"
      ],
      "execution_count": 52,
      "outputs": [
        {
          "output_type": "stream",
          "text": [
            "index of count var= 30\n",
            "AAA\n",
            "Veena went to the mall located at junction road called CM It was 1 PM She purchased articles worth $ 400 Most of the items she purchased was from AAA brand\n"
          ],
          "name": "stdout"
        }
      ]
    },
    {
      "cell_type": "code",
      "metadata": {
        "id": "r7iO8W5vdaFH"
      },
      "source": [
        ""
      ],
      "execution_count": null,
      "outputs": []
    }
  ]
}